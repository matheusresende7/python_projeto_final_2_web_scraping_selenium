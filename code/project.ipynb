{
 "cells": [
  {
   "cell_type": "markdown",
   "metadata": {},
   "source": [
    "##### Instalando/atualizando o Selenium"
   ]
  },
  {
   "cell_type": "code",
   "execution_count": 9,
   "metadata": {},
   "outputs": [],
   "source": [
    "from selenium import webdriver\n",
    "from selenium.webdriver.chrome.service import Service\n",
    "from webdriver_manager.chrome import ChromeDriverManager\n",
    "\n",
    "servico = Service(ChromeDriverManager().install())\n",
    "driver = webdriver.Chrome(service=servico)"
   ]
  },
  {
   "cell_type": "markdown",
   "metadata": {},
   "source": [
    "##### Importando as bibliotecas"
   ]
  },
  {
   "cell_type": "code",
   "execution_count": 10,
   "metadata": {},
   "outputs": [],
   "source": [
    "from selenium.webdriver.common.keys import Keys\n",
    "from selenium.webdriver.common.by import By\n",
    "import pandas as pd\n",
    "import pyautogui as pag\n",
    "import openpyxl\n",
    "import time"
   ]
  },
  {
   "cell_type": "markdown",
   "metadata": {},
   "source": [
    "##### Criando as funções"
   ]
  },
  {
   "cell_type": "code",
   "execution_count": 11,
   "metadata": {},
   "outputs": [],
   "source": [
    "def extracao_texto (xpath): # Função para extrair do site informação de texto\n",
    "    try:\n",
    "        texto = driver.find_element(By.XPATH, xpath).text\n",
    "    except:\n",
    "        texto = ''\n",
    "    return texto\n",
    "\n",
    "def extracao_numero (xpath): # Função para extrair do site informação de número decimal\n",
    "    try:\n",
    "        numero = float(driver.find_element(By.XPATH, xpath).text.replace('.', '').replace(',', '.'))\n",
    "    except:\n",
    "        numero = ''\n",
    "    return numero\n",
    "\n",
    "def extracao_porcentagem (xpath): # Função para extrair do site informação de porcentagem\n",
    "    try:\n",
    "        porcentagem = float(driver.find_element(By.XPATH, xpath).text.replace('.', '').replace(',', '.').replace('%', '')) / 100\n",
    "    except:\n",
    "        porcentagem = ''\n",
    "    return porcentagem"
   ]
  },
  {
   "cell_type": "markdown",
   "metadata": {},
   "source": [
    "##### Iniciando o navegador"
   ]
  },
  {
   "cell_type": "code",
   "execution_count": 12,
   "metadata": {},
   "outputs": [
    {
     "name": "stdout",
     "output_type": "stream",
     "text": [
      "bbse3\n",
      "leve3\n",
      "cury3\n",
      "plpl3\n",
      "odpv3\n",
      "egie3\n",
      "['bbse3', 'leve3', 'cury3', 'plpl3', 'odpv3', 'egie3']\n",
      "Base de dados criada com sucesso!\n"
     ]
    }
   ],
   "source": [
    "# Criando as variáveis\n",
    "site_statusinvest = r'https://statusinvest.com.br/acoes'\n",
    "caminho_projeto = r'C:\\000 - Arquivos\\Educação\\Habilidades e Treinamentos\\Hashtag Treinamentos\\Python\\Projetos Finais\\python_projeto_final_2_web_scraping_selenium'\n",
    "\n",
    "acoes = [] # Criando uma lista vazia onde serão armazenadas as ações que serão adicionadas na base de dados\n",
    "\n",
    "driver.get (site_statusinvest) # Abrindo o site no navegador\n",
    "\n",
    "for numero in range(1,7): # Criando uma estrutura de repetição para extrair as ações que serão adicionadas a base de dados\n",
    "    xpath = f'//*[@id=\"main-2\"]/section[3]/div/div[3]/div[2]/table/tbody/tr[{numero}]/td[1]/a/div[2]/h4/strong' # Armazenando o xpath do elemento HTML onde estão as ações\n",
    "    acao = driver.find_element(By.XPATH, xpath).text.casefold() # Armazenando a ação em uma variável e convertendo o texto para minúsculo\n",
    "    acoes.append(acao) # Adicionando a ação a lista de ações\n",
    "    print(acao)\n",
    "print(acoes)\n",
    "\n",
    "base_dados = [] # Criando uma lista vazia para armazenar os dados extraídos dos site\n",
    "\n",
    "try: # Criando um tratamento de erro ao extrair as informações das ações no site\n",
    "\n",
    "    for acao in acoes: # Criando uma estrutura de repetição para entrar no site de cada ação e extrair seus dados\n",
    "        \n",
    "        driver.get(f'{site_statusinvest}/{acao}') # Navegando para a página da ação\n",
    "        \n",
    "        acao = {\n",
    "            'Empresa': extracao_texto('//*[@id=\"main-header\"]/div[2]/div/div[1]/h1/small').title(),\n",
    "            'Ticker': acao.upper(),\n",
    "            'Valor Atual': extracao_numero('//*[@id=\"main-2\"]/div[2]/div/div[1]/div/div[1]/div/div[1]/strong'),\n",
    "            'Min 52 Semanas': extracao_numero('//*[@id=\"main-2\"]/div[2]/div/div[1]/div/div[2]/div/div[1]/strong'),\n",
    "            'Max 52 Semanas': extracao_numero('//*[@id=\"main-2\"]/div[2]/div/div[1]/div/div[3]/div/div[1]/strong'),\n",
    "            'Dividend Yield': extracao_porcentagem('//*[@id=\"main-2\"]/div[2]/div/div[1]/div/div[4]/div/div[1]/strong'),\n",
    "            'Valorizacao 12 Meses': extracao_porcentagem('//*[@id=\"main-2\"]/div[2]/div/div[1]/div/div[5]/div/div[1]/strong'),\n",
    "            'P/L': extracao_numero('//*[@id=\"indicators-section\"]/div[2]/div/div[1]/div/div[2]/div/div/strong'),\n",
    "            'Margem Bruta': extracao_porcentagem('//*[@id=\"indicators-section\"]/div[2]/div/div[3]/div/div[1]/div/div/strong'),\n",
    "            'Margem Líquida': extracao_porcentagem('//*[@id=\"indicators-section\"]/div[2]/div/div[3]/div/div[4]/div/div/strong'),\n",
    "            'ROE': extracao_porcentagem('//*[@id=\"indicators-section\"]/div[2]/div/div[4]/div/div[1]/div/div/strong'),\n",
    "            'ROIC': extracao_porcentagem('//*[@id=\"indicators-section\"]/div[2]/div/div[4]/div/div[3]/div/div/strong'),\n",
    "            'CAGR Receitas 5 Anos': extracao_porcentagem('//*[@id=\"indicators-section\"]/div[2]/div/div[5]/div/div[1]/div/div/strong'),\n",
    "            'CAGR Lucros 5 Anos': extracao_porcentagem('//*[@id=\"indicators-section\"]/div[2]/div/div[5]/div/div[2]/div/div/strong'),\n",
    "            'Patrimônio Líquido': extracao_numero('//*[@id=\"company-section\"]/div[1]/div/div[2]/div[1]/div/div/strong'),\n",
    "            'Valor de Mercado': extracao_numero('//*[@id=\"company-section\"]/div[1]/div/div[2]/div[7]/div/div/strong'),\n",
    "            'Setor': extracao_texto('//*[@id=\"company-section\"]/div[1]/div/div[3]/div/div[1]/div/div/div/a/strong'),\n",
    "            'Subsetor': extracao_texto('//*[@id=\"company-section\"]/div[1]/div/div[3]/div/div[2]/div/div/div/a/strong'),\n",
    "            'Segmento': extracao_texto('//*[@id=\"company-section\"]/div[1]/div/div[3]/div/div[3]/div/div/div/a/strong')\n",
    "        } # Criando um dicionário com os dados extraídos do site\n",
    "    \n",
    "        base_dados.append(acao) # Adicionando o dicionário com os dados da ação a lista criada anteriormente\n",
    "\n",
    "    # Criando um DataFrame com os dados extraídos\n",
    "    df = pd.DataFrame(base_dados)\n",
    "\n",
    "    # Salve o DataFrame em um novo arquivo Excel\n",
    "    df.to_excel(\n",
    "         rf'{caminho_projeto}\\data\\base_dados.xlsx',\n",
    "         index=False,\n",
    "         sheet_name='Base de Dados'\n",
    "    )\n",
    "\n",
    "    print(\"Base de dados criada com sucesso!\")\n",
    "\n",
    "    pag.alert( # Exibindo uma Msgbox informando que o script foi concluído com sucesso\n",
    "        title='Extração realizada com sucesso', \n",
    "        text='Base de dados criada com sucesso!', \n",
    "        button='OK'\n",
    "    )\n",
    "    \n",
    "except Exception as erro:\n",
    "        \n",
    "        pag.alert( # Exibindo uma Msgbox informando que o script foi concluído com sucesso\n",
    "            title='Erro ao extrair os dados', \n",
    "            text=f'Erro ao recuperar informações do site.\\n\\nMensagem de erro: {erro}', \n",
    "            button='OK'\n",
    "        )"
   ]
  }
 ],
 "metadata": {
  "kernelspec": {
   "display_name": "Python 3",
   "language": "python",
   "name": "python3"
  },
  "language_info": {
   "codemirror_mode": {
    "name": "ipython",
    "version": 3
   },
   "file_extension": ".py",
   "mimetype": "text/x-python",
   "name": "python",
   "nbconvert_exporter": "python",
   "pygments_lexer": "ipython3",
   "version": "3.12.4"
  }
 },
 "nbformat": 4,
 "nbformat_minor": 2
}
