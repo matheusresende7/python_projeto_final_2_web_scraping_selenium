{
 "cells": [
  {
   "cell_type": "markdown",
   "metadata": {},
   "source": [
    "##### Instalando/atualizando o Selenium"
   ]
  },
  {
   "cell_type": "code",
   "execution_count": 2,
   "metadata": {},
   "outputs": [],
   "source": [
    "from selenium import webdriver\n",
    "from selenium.webdriver.chrome.service import Service\n",
    "from webdriver_manager.chrome import ChromeDriverManager\n",
    "\n",
    "servico = Service(ChromeDriverManager().install())\n",
    "driver = webdriver.Chrome(service=servico)"
   ]
  },
  {
   "cell_type": "markdown",
   "metadata": {},
   "source": [
    "##### Importando as bibliotecas"
   ]
  },
  {
   "cell_type": "code",
   "execution_count": 3,
   "metadata": {},
   "outputs": [],
   "source": [
    "from selenium.webdriver.common.keys import Keys\n",
    "from selenium.webdriver.common.by import By\n",
    "import pandas as pd\n",
    "import pyautogui as pag\n",
    "import openpyxl\n",
    "import time"
   ]
  },
  {
   "cell_type": "markdown",
   "metadata": {},
   "source": [
    "##### Iniciando o navegador"
   ]
  },
  {
   "cell_type": "code",
   "execution_count": 12,
   "metadata": {},
   "outputs": [
    {
     "name": "stdout",
     "output_type": "stream",
     "text": [
      "bbse3\n",
      "leve3\n",
      "cury3\n",
      "plpl3\n",
      "odpv3\n",
      "egie3\n",
      "['bbse3', 'leve3', 'cury3', 'plpl3', 'odpv3', 'egie3']\n",
      "Base de dados criada com sucesso!\n"
     ]
    }
   ],
   "source": [
    "acoes = [] # Criando uma lista vazia onde serão armazenadas as ações Top 5 com maior ROE (Retorno sobre o patrimônio)\n",
    "\n",
    "site_statusinvest = r'https://statusinvest.com.br/acoes' # Armazenando o site inicial em uma variável\n",
    "\n",
    "driver.get (site_statusinvest) # Abrindo o site no navegador\n",
    "\n",
    "for numero in range(1,7):    \n",
    "    xpath = f'//*[@id=\"main-2\"]/section[3]/div/div[3]/div[2]/table/tbody/tr[{numero}]/td[1]/a/div[2]/h4/strong' # Armazenando o xpath do elemento HTML onde estão as ações Top 5 com maior ROE\n",
    "    acao = driver.find_element(By.XPATH, xpath) # Armazenando em uma variável a ação\n",
    "    acao = acao.text.casefold() # Transformando o texto em letras minúsculas\n",
    "    acoes.append(acao) # Adicionando a ação a lista de ações\n",
    "    print(acao)\n",
    "print(acoes)\n",
    "\n",
    "acoes_dados = [] # Lista para armazenar os dados das ações\n",
    "\n",
    "try: \n",
    "\n",
    "    for acao in acoes:     \n",
    "        # Navegando para a página da ação específica\n",
    "        driver.get(f\"{site_statusinvest}/{acao}\") \n",
    "        \n",
    "        # Extraindo os dados de indicadores (exemplo de XPaths; esses XPaths devem ser ajustados de acordo com a estrutura da página)\n",
    "        nome = driver.find_element(By.XPATH, '//*[@id=\"main-header\"]/div[2]/div/div[1]/h1/small').text\n",
    "        ticker = acao.upper()\n",
    "        valor_atual = float(driver.find_element(By.XPATH, '//*[@id=\"main-2\"]/div[2]/div/div[1]/div/div[1]/div/div[1]/strong').text.replace('.', '').replace(',', '.'))\n",
    "        min_52cw = float(driver.find_element(By.XPATH, '//*[@id=\"main-2\"]/div[2]/div/div[1]/div/div[2]/div/div[1]/strong').text.replace('.', '').replace(',', '.'))\n",
    "        max_52cw = float(driver.find_element(By.XPATH, '//*[@id=\"main-2\"]/div[2]/div/div[1]/div/div[3]/div/div[1]/strong').text.replace('.', '').replace(',', '.'))\n",
    "        dividend_yield = driver.find_element(By.XPATH, '//*[@id=\"main-2\"]/div[2]/div/div[1]/div/div[4]/div/div[1]/strong').text\n",
    "        valorizacao_12m = driver.find_element(By.XPATH, '//*[@id=\"main-2\"]/div[2]/div/div[1]/div/div[5]/div/div[1]/strong').text\n",
    "        pl = driver.find_element(By.XPATH, '//*[@id=\"indicators-section\"]/div[2]/div/div[1]/div/div[2]/div/div/strong').text\n",
    "        margem_bruta = driver.find_element(By.XPATH, '//*[@id=\"indicators-section\"]/div[2]/div/div[3]/div/div[1]/div/div/strong').text\n",
    "        margem_liquida = driver.find_element(By.XPATH, '//*[@id=\"indicators-section\"]/div[2]/div/div[3]/div/div[4]/div/div/strong').text\n",
    "        roe = driver.find_element(By.XPATH, '//*[@id=\"indicators-section\"]/div[2]/div/div[4]/div/div[1]/div/div/strong').text\n",
    "        roic = driver.find_element(By.XPATH, '//*[@id=\"indicators-section\"]/div[2]/div/div[4]/div/div[3]/div/div/strong').text\n",
    "        cagr_receitas_5anos = driver.find_element(By.XPATH, '//*[@id=\"indicators-section\"]/div[2]/div/div[5]/div/div[1]/div/div/strong').text\n",
    "        cagr_lucros_5anos = driver.find_element(By.XPATH, '//*[@id=\"indicators-section\"]/div[2]/div/div[5]/div/div[2]/div/div/strong').text\n",
    "        patrimonio_liquido = float(driver.find_element(By.XPATH, '//*[@id=\"company-section\"]/div[1]/div/div[2]/div[1]/div/div/strong').text.replace('.', '').replace(',', '.'))\n",
    "        valor_de_mercado = float(driver.find_element(By.XPATH, '//*[@id=\"company-section\"]/div[1]/div/div[2]/div[7]/div/div/strong').text.replace('.', '').replace(',', '.'))\n",
    "        setor = driver.find_element(By.XPATH, '//*[@id=\"company-section\"]/div[1]/div/div[3]/div/div[1]/div/div/div/a/strong').text\n",
    "        subsetor = driver.find_element(By.XPATH, '//*[@id=\"company-section\"]/div[1]/div/div[3]/div/div[2]/div/div/div/a/strong').text\n",
    "        segmento = driver.find_element(By.XPATH, '//*[@id=\"company-section\"]/div[1]/div/div[3]/div/div[3]/div/div/div/a/strong').text\n",
    "        \n",
    "        # Armazenando os dados em um dicionário\n",
    "        dados_acao = {\n",
    "            'nome': nome,\n",
    "            'ticker': ticker,\n",
    "            'valor_atual': valor_atual,\n",
    "            'min_52cw': min_52cw,\n",
    "            'max_52cw': max_52cw,\n",
    "            'dividend_yield': dividend_yield,\n",
    "            'valorizacao_12m': valorizacao_12m,\n",
    "            'p/l': pl,\n",
    "            'margem_bruta': margem_bruta,\n",
    "            'margem_liquida': margem_liquida,\n",
    "            'roe': roe,\n",
    "            'roic': roic,\n",
    "            'cagr_receitas_5anos': cagr_receitas_5anos,\n",
    "            'cagr_lucros_5anos': cagr_lucros_5anos,\n",
    "            'patrimonio_liquido': patrimonio_liquido,\n",
    "            'valor_de_mercado': valor_de_mercado,\n",
    "            'setor': setor,\n",
    "            'subsetor': subsetor,\n",
    "            'segmento': segmento\n",
    "        }\n",
    "    \n",
    "        # Adicionando o dicionário à lista\n",
    "        acoes_dados.append(dados_acao)\n",
    "\n",
    "    # Criando um DataFrame com os dados extraídos\n",
    "    df = pd.DataFrame(acoes_dados)\n",
    "\n",
    "    # Salve o DataFrame em um novo arquivo Excel\n",
    "    df.to_excel(r'C:\\000 - Arquivos\\Educação\\Habilidades e Treinamentos\\Hashtag Treinamentos\\Python\\Projetos Finais\\python_projeto_final_2_web_scraping_selenium\\data\\acoes_dados.xlsx', index=False)\n",
    "\n",
    "    print(\"Base de dados criada com sucesso!\")\n",
    "\n",
    "    pag.alert( # Exibindo uma Msgbox informando que o script foi concluído com sucesso\n",
    "        title='Extração realizada com sucesso', \n",
    "        text='Base de dados criada com sucesso!', \n",
    "        button='OK'\n",
    "    )\n",
    "    \n",
    "except Exception as erro:\n",
    "        \n",
    "        pag.alert( # Exibindo uma Msgbox informando que o script foi concluído com sucesso\n",
    "            title='Erro ao extrair os dados', \n",
    "            text=f'Erro ao recuperar informações do site.\\n\\nMensagem de erro: {erro}', \n",
    "            button='OK'\n",
    "        )\n",
    "\n",
    "\n"
   ]
  }
 ],
 "metadata": {
  "kernelspec": {
   "display_name": "Python 3",
   "language": "python",
   "name": "python3"
  },
  "language_info": {
   "codemirror_mode": {
    "name": "ipython",
    "version": 3
   },
   "file_extension": ".py",
   "mimetype": "text/x-python",
   "name": "python",
   "nbconvert_exporter": "python",
   "pygments_lexer": "ipython3",
   "version": "3.12.4"
  }
 },
 "nbformat": 4,
 "nbformat_minor": 2
}
