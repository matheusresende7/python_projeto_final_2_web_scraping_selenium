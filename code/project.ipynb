{
 "cells": [
  {
   "cell_type": "markdown",
   "metadata": {},
   "source": [
    "##### Instalando/atualizando o Selenium"
   ]
  },
  {
   "cell_type": "code",
   "execution_count": 81,
   "metadata": {},
   "outputs": [],
   "source": [
    "from selenium import webdriver\n",
    "from selenium.webdriver.chrome.service import Service\n",
    "from webdriver_manager.chrome import ChromeDriverManager\n",
    "\n",
    "servico = Service(ChromeDriverManager().install())\n",
    "driver = webdriver.Chrome(service=servico)"
   ]
  },
  {
   "cell_type": "markdown",
   "metadata": {},
   "source": [
    "##### Importando as bibliotecas"
   ]
  },
  {
   "cell_type": "code",
   "execution_count": 82,
   "metadata": {},
   "outputs": [],
   "source": [
    "from selenium.webdriver.common.keys import Keys\n",
    "from selenium.webdriver.common.by import By\n",
    "import pandas as pd\n",
    "import openpyxl\n",
    "import time"
   ]
  },
  {
   "cell_type": "markdown",
   "metadata": {},
   "source": [
    "##### Iniciando o navegador"
   ]
  },
  {
   "cell_type": "code",
   "execution_count": 93,
   "metadata": {},
   "outputs": [
    {
     "name": "stdout",
     "output_type": "stream",
     "text": [
      "BEEF3\n",
      "BBSE3\n",
      "LEVE3\n",
      "['BEEF3', 'BBSE3', 'LEVE3']\n",
      "Arquivo Excel criado com sucesso!\n"
     ]
    }
   ],
   "source": [
    "acoes_top = [] # Criando uma lista vazia onde serão armazenadas as ações Top 5 com maior ROE (Retorno sobre o patrimônio)\n",
    "\n",
    "for numero in range(1,4):\n",
    "    try:\n",
    "        site_statusinvest = r'https://statusinvest.com.br/acoes' # Armazenando o site em uma variável\n",
    "        driver.get (site_statusinvest) # Abrindo o site no navegador\n",
    "        xpath = f'//*[@id=\"main-2\"]/section[3]/div/div[3]/div[2]/table/tbody/tr[{numero}]/td[1]/a/div[2]/h4/strong' # Armazenando o xpath do elemento HTML onde estão as ações Top 5 com maior ROE\n",
    "        acao = driver.find_element(By.XPATH, xpath) # Armazenando em uma variável a ação\n",
    "        acoes_top.append(acao.text) # Adicionando a ação a lista de ações\n",
    "        print(acao.text)\n",
    "        driver.get(f'{site_statusinvest}/{acao.text.lower()}') # Acessando a página específica da ação para coletar mais dados\n",
    "\n",
    "    except Exception as erro:\n",
    "        print (f'Erro ao recuperar informações do site.\\n\\nMensagem de erro: {erro}')\n",
    "\n",
    "df = pd.DataFrame(acoes_top, columns=[\"Ação\"]) # Criando um DataFrame do pandas com os dados das ações\n",
    "\n",
    "# Salve o DataFrame em um novo arquivo Excel\n",
    "df.to_excel(r'C:\\000 - Arquivos\\Educação\\Habilidades e Treinamentos\\Hashtag Treinamentos\\Python\\Projetos Finais\\python_projeto_final_2_web_scraping_selenium\\data\\acoes_top.xlsx', index=False)\n",
    "\n",
    "print(acoes_top)\n",
    "print(\"Arquivo Excel criado com sucesso!\")"
   ]
  }
 ],
 "metadata": {
  "kernelspec": {
   "display_name": "Python 3",
   "language": "python",
   "name": "python3"
  },
  "language_info": {
   "codemirror_mode": {
    "name": "ipython",
    "version": 3
   },
   "file_extension": ".py",
   "mimetype": "text/x-python",
   "name": "python",
   "nbconvert_exporter": "python",
   "pygments_lexer": "ipython3",
   "version": "3.12.4"
  }
 },
 "nbformat": 4,
 "nbformat_minor": 2
}
