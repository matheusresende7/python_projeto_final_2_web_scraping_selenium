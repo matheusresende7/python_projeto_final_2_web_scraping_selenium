{
 "cells": [
  {
   "cell_type": "markdown",
   "metadata": {},
   "source": [
    "##### Instalando/atualizando o Selenium"
   ]
  },
  {
   "cell_type": "code",
   "execution_count": 34,
   "metadata": {},
   "outputs": [],
   "source": [
    "from selenium import webdriver\n",
    "from selenium.webdriver.chrome.service import Service\n",
    "from webdriver_manager.chrome import ChromeDriverManager\n",
    "\n",
    "servico = Service(ChromeDriverManager().install())\n",
    "driver = webdriver.Chrome(service=servico)"
   ]
  },
  {
   "cell_type": "markdown",
   "metadata": {},
   "source": [
    "##### Importando as bibliotecas"
   ]
  },
  {
   "cell_type": "code",
   "execution_count": 35,
   "metadata": {},
   "outputs": [],
   "source": [
    "from selenium.webdriver.common.keys import Keys\n",
    "from selenium.webdriver.common.by import By\n",
    "import pandas as pd\n",
    "import time"
   ]
  },
  {
   "cell_type": "markdown",
   "metadata": {},
   "source": [
    "##### Iniciando o navegador"
   ]
  },
  {
   "cell_type": "code",
   "execution_count": 45,
   "metadata": {},
   "outputs": [
    {
     "name": "stdout",
     "output_type": "stream",
     "text": [
      "BEEF3\n",
      "BBSE3\n",
      "LEVE3\n",
      "CURY3\n",
      "PLPL3\n",
      "['BEEF3', 'BBSE3', 'LEVE3', 'CURY3', 'PLPL3']\n"
     ]
    }
   ],
   "source": [
    "site_statusinvest = r'https://statusinvest.com.br/acoes' # Armazenando o site em uma variável\n",
    "driver.get (site_statusinvest) # Abrindo o site no navegador\n",
    "acoes_top = []\n",
    "\n",
    "for numero in range(1,6):\n",
    "    xpath = f'//*[@id=\"main-2\"]/section[3]/div/div[3]/div[2]/table/tbody/tr[{numero}]/td[1]/a/div[2]/h4/strong'\n",
    "    acao = driver.find_element(By.XPATH, xpath)\n",
    "    acoes_top.append(acao.text)\n",
    "    print(acao.text)\n",
    "    #driver.get (site_statusinvest + '/' + acao)\n",
    "print(acoes_top)"
   ]
  }
 ],
 "metadata": {
  "kernelspec": {
   "display_name": "Python 3",
   "language": "python",
   "name": "python3"
  },
  "language_info": {
   "codemirror_mode": {
    "name": "ipython",
    "version": 3
   },
   "file_extension": ".py",
   "mimetype": "text/x-python",
   "name": "python",
   "nbconvert_exporter": "python",
   "pygments_lexer": "ipython3",
   "version": "3.12.4"
  }
 },
 "nbformat": 4,
 "nbformat_minor": 2
}
